{
 "cells": [
  {
   "cell_type": "markdown",
   "metadata": {
    "collapsed": true
   },
   "source": [
    "## Лабораторная работа № 4"
   ]
  },
  {
   "cell_type": "markdown",
   "metadata": {},
   "source": [
    "### Задание № 3"
   ]
  },
  {
   "cell_type": "code",
   "execution_count": 1,
   "metadata": {
    "collapsed": true
   },
   "outputs": [],
   "source": [
    "import numpy as np\n",
    "import sympy as sp\n",
    "import matplotlib.pyplot as plt\n",
    "from math import cos, sin, pi"
   ]
  },
  {
   "cell_type": "code",
   "execution_count": 2,
   "metadata": {
    "collapsed": false
   },
   "outputs": [
    {
     "name": "stdout",
     "output_type": "stream",
     "text": [
      "[ 0.          0.62831853  1.25663706  1.88495559  2.51327412  3.14159265\n",
      "  3.76991118  4.39822972  5.02654825  5.65486678]\n",
      "[ -4.60000000e-04   3.09544000e-01   5.91083000e-01   8.16324000e-01\n",
      "   9.62789000e-01   1.01560500e+00   9.69005000e-01   8.26959000e-01\n",
      "   6.02835000e-01   3.18152000e-01]\n",
      "[ 0.          0.06283185  0.12566371  0.18849556  0.25132741  0.31415927\n",
      "  0.37699112  0.43982297  0.50265482  0.56548668  0.62831853  0.69115038\n",
      "  0.75398224  0.81681409  0.87964594  0.9424778   1.00530965  1.0681415\n",
      "  1.13097336  1.19380521  1.25663706  1.31946891  1.38230077  1.44513262\n",
      "  1.50796447  1.57079633  1.63362818  1.69646003  1.75929189  1.82212374\n",
      "  1.88495559  1.94778745  2.0106193   2.07345115  2.136283    2.19911486\n",
      "  2.26194671  2.32477856  2.38761042  2.45044227  2.51327412  2.57610598\n",
      "  2.63893783  2.70176968  2.76460154  2.82743339  2.89026524  2.95309709\n",
      "  3.01592895  3.0787608   3.14159265  3.20442451  3.26725636  3.33008821\n",
      "  3.39292007  3.45575192  3.51858377  3.58141563  3.64424748  3.70707933\n",
      "  3.76991118  3.83274304  3.89557489  3.95840674  4.0212386   4.08407045\n",
      "  4.1469023   4.20973416  4.27256601  4.33539786  4.39822972  4.46106157\n",
      "  4.52389342  4.58672527  4.64955713  4.71238898  4.77522083  4.83805269\n",
      "  4.90088454  4.96371639  5.02654825  5.0893801   5.15221195  5.2150438\n",
      "  5.27787566  5.34070751  5.40353936  5.46637122  5.52920307  5.59203492\n",
      "  5.65486678  5.71769863  5.78053048  5.84336234  5.90619419  5.96902604\n",
      "  6.03185789  6.09468975  6.1575216   6.22035345]\n"
     ]
    }
   ],
   "source": [
    "# Чтение таблицы x - f(x) из файла\n",
    "\n",
    "xArr = np.zeros((10), dtype = float)\n",
    "yArr = np.zeros((10), dtype = float)\n",
    "new_xArr = np.zeros((100), dtype = float)\n",
    "\n",
    "openFile = np.loadtxt(\"data.csv\")\n",
    "for i in range(10):\n",
    "    xArr[i] = i * 2 * pi / 10\n",
    "    yArr[i] = openFile[i + 220][1]\n",
    "\n",
    "for i in range(100):\n",
    "    new_xArr[i] = i * 2 * pi / 100\n",
    "    \n",
    "print (xArr)\n",
    "print (yArr)\n",
    "print (new_xArr)"
   ]
  },
  {
   "cell_type": "code",
   "execution_count": 3,
   "metadata": {
    "collapsed": true
   },
   "outputs": [],
   "source": [
    "def getA0(yArr):\n",
    "    a0 = 0\n",
    "    for i in range(10):\n",
    "        a0 -= yArr[i] / 10\n",
    "    return a0"
   ]
  },
  {
   "cell_type": "code",
   "execution_count": 4,
   "metadata": {
    "collapsed": true
   },
   "outputs": [],
   "source": [
    "def getAk(power, yArr):\n",
    "    ak = np.zeros((power + 1), dtype = float)\n",
    "    for k in range(power + 1):\n",
    "        s = 0\n",
    "        for i in range(10):\n",
    "            s += yArr[i] * cos(k * 2 * pi * i / 10)\n",
    "        ak[k] = (2 / 10) * s\n",
    "    return ak"
   ]
  },
  {
   "cell_type": "code",
   "execution_count": 5,
   "metadata": {
    "collapsed": true
   },
   "outputs": [],
   "source": [
    "def getBk(power, yArr):\n",
    "    bk = np.zeros((power + 1), dtype = float)\n",
    "    for k in range(power + 1):\n",
    "        s = 0\n",
    "        for i in range(10):\n",
    "            s += yArr[i] * sin(k * 2 * pi * i / 10)\n",
    "        bk[k] = (2 / 10) * s    \n",
    "    return bk"
   ]
  },
  {
   "cell_type": "code",
   "execution_count": 6,
   "metadata": {
    "collapsed": false
   },
   "outputs": [],
   "source": [
    "def getFourier(power, xArr, yArr):\n",
    "    polinom = np.zeros((100), dtype = float)\n",
    "    a0 = getA0(yArr)\n",
    "    ak = getAk(power, yArr)\n",
    "    bk = getBk(power, yArr)\n",
    "    for i in range(100):\n",
    "        polinom[i] = a0\n",
    "        for j in range(power + 1):\n",
    "            polinom[i] += ak[j] * cos((j) * xArr[i]) + bk[j] * sin((j) * xArr[i])\n",
    "    return polinom"
   ]
  },
  {
   "cell_type": "code",
   "execution_count": 13,
   "metadata": {
    "collapsed": false
   },
   "outputs": [
    {
     "name": "stdout",
     "output_type": "stream",
     "text": [
      "[ 0.0156732   0.01882173  0.02915996  0.04634594  0.06982512  0.09885736\n",
      "  0.13255277  0.16991421  0.20988424  0.25139394  0.2934108   0.33498337\n",
      "  0.37528009  0.41362046  0.44949697  0.48258692  0.5127537   0.54003781\n",
      "  0.56463852  0.58688748  0.6072162   0.62611935  0.64411645  0.66171411\n",
      "  0.67937115  0.69746868  0.71628674  0.73598863  0.75661388  0.77807972\n",
      "  0.8001908   0.82265622  0.84511249  0.86715067  0.88834592  0.90828714\n",
      "  0.92660494  0.94299598  0.9572421   0.96922306  0.9789222   0.98642464\n",
      "  0.99190843  0.99562926  0.99789996  0.99906618  0.99948018  0.99947438\n",
      "  0.99933668  0.99928917  0.9994718   0.99993206  1.00062145  1.00139896\n",
      "  1.00204127  1.00225909  1.00171836  1.00006496  0.99695108  0.99206156\n",
      "  0.9851382   0.9760003   0.96456005  0.9508315   0.93493239  0.91707859\n",
      "  0.89757145  0.8767787   0.85511014  0.83298971  0.8108258   0.78898166\n",
      "  0.76774821  0.74732096  0.7277829   0.70909465  0.69109287  0.67349722\n",
      "  0.65592591  0.63791897  0.6189682   0.59855199  0.57617311  0.55139719\n",
      "  0.52388939  0.49344718  0.46002686  0.42376208  0.38497306  0.34416546\n",
      "  0.3020188   0.25936468  0.21715576  0.17642695  0.13825094  0.1036902\n",
      "  0.07374813  0.04932204  0.0311604   0.01982692]\n"
     ]
    }
   ],
   "source": [
    "Fourier = getFourier(4, new_xArr, yArr)\n",
    "print (Fourier)"
   ]
  },
  {
   "cell_type": "code",
   "execution_count": 14,
   "metadata": {
    "collapsed": false
   },
   "outputs": [
    {
     "data": {
      "image/png": "[encoded data removed]",
      "text/plain": [
       "<matplotlib.figure.Figure at 0x7f8ca8601fd0>"
      ]
     },
     "metadata": {},
     "output_type": "display_data"
    }
   ],
   "source": [
    "fig = plt.figure()\n",
    "axes = fig.add_subplot(111)\n",
    "axes.grid()\n",
    "axes.plot(xArr, yArr, 'o-', new_xArr, Fourier)\n",
    "plt.show()"
   ]
  }
 ],
 "metadata": {
  "kernelspec": {
   "display_name": "Python 3",
   "language": "python",
   "name": "python3"
  },
  "language_info": {
   "codemirror_mode": {
    "name": "ipython",
    "version": 3
   },
   "file_extension": ".py",
   "mimetype": "text/x-python",
   "name": "python",
   "nbconvert_exporter": "python",
   "pygments_lexer": "ipython3",
   "version": "3.5.1"
  }
 },
 "nbformat": 4,
 "nbformat_minor": 2
}
