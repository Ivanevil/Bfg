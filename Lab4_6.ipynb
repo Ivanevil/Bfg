{
 "cells": [
  {
   "cell_type": "markdown",
   "metadata": {
    "collapsed": true
   },
   "source": [
    "## Лабораторная работа № 4"
   ]
  },
  {
   "cell_type": "markdown",
   "metadata": {},
   "source": [
    "### Задание № 6"
   ]
  },
  {
   "cell_type": "code",
   "execution_count": 1,
   "metadata": {
    "collapsed": true
   },
   "outputs": [],
   "source": [
    "import numpy as np\n",
    "import sympy as sp\n",
    "import matplotlib.pyplot as plt"
   ]
  },
  {
   "cell_type": "code",
   "execution_count": 2,
   "metadata": {
    "collapsed": false
   },
   "outputs": [
    {
     "name": "stdout",
     "output_type": "stream",
     "text": [
      "[ 23.   23.1  23.2  23.3  23.4  23.5  23.6  23.7  23.8  23.9]\n",
      "[ -4.60000000e-04   3.09544000e-01   5.91083000e-01   8.16324000e-01\n",
      "   9.62789000e-01   1.01560500e+00   9.69005000e-01   8.26959000e-01\n",
      "   6.02835000e-01   3.18152000e-01]\n"
     ]
    }
   ],
   "source": [
    "# Чтение таблицы x - f(x) из файла\n",
    "\n",
    "xArr = np.zeros((10), dtype = float)\n",
    "yArr = np.zeros((10), dtype = float)\n",
    "\n",
    "openFile = np.loadtxt(\"data.csv\")\n",
    "for i in range(10):\n",
    "    xArr[i] = openFile[i + 220][0]\n",
    "    yArr[i] = openFile[i + 220][1]\n",
    "    \n",
    "print (xArr)\n",
    "print (yArr)"
   ]
  },
  {
   "cell_type": "code",
   "execution_count": 3,
   "metadata": {
    "collapsed": true
   },
   "outputs": [],
   "source": [
    "def getC(power, xArr):\n",
    "    c = np.zeros((2 * power + 1), dtype = float)\n",
    "    \n",
    "    for k in range(2 * power + 1):\n",
    "        for i in range(10):\n",
    "            c[k] += xArr[i] ** k\n",
    "            \n",
    "    return c"
   ]
  },
  {
   "cell_type": "code",
   "execution_count": 4,
   "metadata": {
    "collapsed": true
   },
   "outputs": [],
   "source": [
    "def getB(power, xArr, yArr):\n",
    "    b = np.zeros((power + 1), dtype = float)\n",
    "    \n",
    "    for k in range(power + 1):\n",
    "        for i in range(10):\n",
    "            b[k] += yArr[i] * xArr[i] ** k\n",
    "            \n",
    "    return b"
   ]
  },
  {
   "cell_type": "code",
   "execution_count": 5,
   "metadata": {
    "collapsed": false
   },
   "outputs": [],
   "source": [
    "def getCArr(power, c):\n",
    "    cArr = np.zeros((power + 1, power + 1), dtype = float)\n",
    "    \n",
    "    for k in range(power + 1):\n",
    "        j = k\n",
    "        for i in range(power + 1):\n",
    "            cArr[k][i] = c[j]\n",
    "            j = j + 1\n",
    "            \n",
    "    return cArr"
   ]
  },
  {
   "cell_type": "code",
   "execution_count": 6,
   "metadata": {
    "collapsed": true
   },
   "outputs": [],
   "source": [
    "def getPolinom(power, xArr, yArr):\n",
    "    polinom = np.zeros((10), dtype = float)\n",
    "    \n",
    "    c = getC(power, xArr)\n",
    "    b = getB(power, xArr, yArr)\n",
    "    cArr = getCArr(power, c)\n",
    "    res = np.linalg.solve(cArr, b)\n",
    "\n",
    "    for i in range(10):\n",
    "        for j in range(power + 1):\n",
    "            polinom[i] += res[j] * xArr[i] ** j\n",
    "            \n",
    "    return polinom"
   ]
  },
  {
   "cell_type": "code",
   "execution_count": 11,
   "metadata": {
    "collapsed": false
   },
   "outputs": [
    {
     "name": "stdout",
     "output_type": "stream",
     "text": [
      "[-0.03714211  0.33494432  0.62402547  0.83010136  0.95317199  0.99323734\n",
      "  0.95029744  0.82435226  0.61540182  0.32344611]\n"
     ]
    }
   ],
   "source": [
    "polinom = getPolinom(2, xArr, yArr)\n",
    "print (polinom)"
   ]
  },
  {
   "cell_type": "code",
   "execution_count": 12,
   "metadata": {
    "collapsed": false
   },
   "outputs": [
    {
     "data": {
      "image/png": "[encoded data removed]",
      "text/plain": [
       "<matplotlib.figure.Figure at 0x7f03bc82ce48>"
      ]
     },
     "metadata": {},
     "output_type": "display_data"
    }
   ],
   "source": [
    "fig = plt.figure()\n",
    "axes = fig.add_subplot(111)\n",
    "axes.grid()\n",
    "axes.plot(xArr, yArr, 'o-', xArr, polinom)\n",
    "plt.show()"
   ]
  }
 ],
 "metadata": {
  "kernelspec": {
   "display_name": "Python 3",
   "language": "python",
   "name": "python3"
  },
  "language_info": {
   "codemirror_mode": {
    "name": "ipython",
    "version": 3
   },
   "file_extension": ".py",
   "mimetype": "text/x-python",
   "name": "python",
   "nbconvert_exporter": "python",
   "pygments_lexer": "ipython3",
   "version": "3.6.0"
  }
 },
 "nbformat": 4,
 "nbformat_minor": 2
}
