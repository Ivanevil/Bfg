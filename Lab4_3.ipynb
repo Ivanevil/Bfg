{
 "cells": [
  {
   "cell_type": "markdown",
   "metadata": {
    "collapsed": true
   },
   "source": [
    "## Лабораторная работа № 4"
   ]
  },
  {
   "cell_type": "markdown",
   "metadata": {},
   "source": [
    "### Задание № 3"
   ]
  },
  {
   "cell_type": "code",
   "execution_count": 223,
   "metadata": {
    "collapsed": true
   },
   "outputs": [],
   "source": [
    "import numpy as np\n",
    "import sympy as sp\n",
    "import matplotlib.pyplot as plt"
   ]
  },
  {
   "cell_type": "code",
   "execution_count": 224,
   "metadata": {
    "collapsed": false
   },
   "outputs": [],
   "source": [
    "# Чтение таблицы x - f(x) из файла\n",
    "\n",
    "xArr = np.zeros((20), dtype = float)\n",
    "yArr = np.zeros((20), dtype = float)\n",
    "\n",
    "openFile = np.loadtxt(\"data.csv\")\n",
    "for i in range(10):\n",
    "    xArr[2 * i] = openFile[i + 220][0]\n",
    "    yArr[2 * i] = openFile[i + 220][1]"
   ]
  },
  {
   "cell_type": "code",
   "execution_count": 225,
   "metadata": {
    "collapsed": false
   },
   "outputs": [],
   "source": [
    "# Поиск базисных полиномов многочлена Лагранжа\n",
    "\n",
    "def l(xk):\n",
    "    global xArr\n",
    "    x = sp.symbols('x')\n",
    "    p = 1\n",
    "    for i in range(10):\n",
    "        if xArr[2 * i] != xk:\n",
    "            p *= (x - xArr[2 * i]) / (xk - xArr[2 * i])\n",
    "    return p"
   ]
  },
  {
   "cell_type": "code",
   "execution_count": 226,
   "metadata": {
    "collapsed": false
   },
   "outputs": [],
   "source": [
    "# Построение интерполяционного многочлена Лагранжа\n",
    "\n",
    "Lagrange = 0\n",
    "for i in range(10):\n",
    "    Lagrange += yArr[2 * i] * l(xArr[2 * i])"
   ]
  },
  {
   "cell_type": "code",
   "execution_count": 227,
   "metadata": {
    "collapsed": false
   },
   "outputs": [],
   "source": [
    "# Добавление в таблицу новых узлов со значениями\n",
    "\n",
    "for i in range(10):\n",
    "    xArr[2 * i + 1] = xArr[2 * i] + 0.05\n",
    "    yArr[2 * i + 1] = Lagrange.subs(x, xArr[2 * i + 1])"
   ]
  },
  {
   "cell_type": "code",
   "execution_count": 228,
   "metadata": {
    "collapsed": false
   },
   "outputs": [
    {
     "name": "stdout",
     "output_type": "stream",
     "text": [
      "[ 23.    23.05  23.1   23.15  23.2   23.25  23.3   23.35  23.4   23.45  23.5   23.55  23.6   23.65  23.7   23.75  23.8   23.85  23.9   23.95]\n",
      "[-0.00046   0.156228  0.309544  0.455705  0.591083  0.712301  0.816324  0.900533  0.962789  1.001489  1.015605  1.004713  0.969005  0.909287  0.826959  0.723983  0.602835  0.466448  0.318152  0.161614]\n"
     ]
    }
   ],
   "source": [
    "print (xArr)\n",
    "print (yArr)"
   ]
  },
  {
   "cell_type": "code",
   "execution_count": 230,
   "metadata": {
    "collapsed": false
   },
   "outputs": [
    {
     "name": "stdout",
     "output_type": "stream",
     "text": [
      "[ 22.5   22.6   22.7   22.8   22.9   23.    23.05  23.1   23.15  23.2   23.25  23.3   23.35  23.4   23.45  23.5   23.55  23.6   23.65  23.7   23.75  23.8   23.85  23.9   23.95  24.    24.1   24.2\n",
      "  24.3   24.4 ]\n",
      "[-1.11973  -0.982992 -0.813283 -0.586752 -0.308739 -0.00046   0.156228  0.309544  0.455705  0.591083  0.712301  0.816324  0.900533  0.962789  1.001489  1.015605  1.004713  0.969005  0.909287  0.826959\n",
      "  0.723983  0.602835  0.466448  0.318152  0.161614  0.00079  -0.316534 -0.59613  -0.791419 -0.83625 ]\n"
     ]
    }
   ],
   "source": [
    "# Экстраполяция\n",
    "\n",
    "# 5 узлов от начала\n",
    "\n",
    "ex_xArr0 = np.zeros((5), dtype = float)\n",
    "ex_yArr0 = np.zeros((5), dtype = float)\n",
    "\n",
    "# 5 узлов от конца\n",
    "\n",
    "ex_xArr1 = np.zeros((5), dtype = float)\n",
    "ex_yArr1 = np.zeros((5), dtype = float)\n",
    "\n",
    "for i in range(5):\n",
    "    ex_xArr0[-1 - i] = 23. - 0.1 * (i + 1)\n",
    "    ex_yArr0[-1 - i] = Lagrange.subs(x, ex_xArr0[-1 - i])\n",
    "    \n",
    "    ex_xArr1[i] = 23.9 + 0.1 * (i + 1)\n",
    "    ex_yArr1[i] = Lagrange.subs(x, ex_xArr1[i])\n",
    "\n",
    "# Полная новая таблица значений\n",
    "\n",
    "new_xArr = np.zeros((30), dtype = float)\n",
    "new_yArr = np.zeros((30), dtype = float)\n",
    "\n",
    "for i in range(30):\n",
    "    if i < 5:\n",
    "        new_xArr[i] = ex_xArr0[i]\n",
    "        new_yArr[i] = ex_yArr0[i]\n",
    "    elif 5 <= i < 25:\n",
    "        new_xArr[i] = xArr[i - 5]\n",
    "        new_yArr[i] = yArr[i - 5]\n",
    "    elif i >= 25:\n",
    "        new_xArr[i] = ex_xArr1[i - 25]\n",
    "        new_yArr[i] = ex_yArr1[i - 25]\n",
    "\n",
    "print (new_xArr)\n",
    "print (new_yArr)"
   ]
  },
  {
   "cell_type": "code",
   "execution_count": 249,
   "metadata": {
    "collapsed": false
   },
   "outputs": [
    {
     "data": {
      "image/png": "[encoded data removed]",
      "text/plain": [
       "<matplotlib.figure.Figure at 0x1eea650ba8>"
      ]
     },
     "metadata": {},
     "output_type": "display_data"
    },
    {
     "data": {
      "image/png": "[encoded data removed]",
      "text/plain": [
       "<matplotlib.figure.Figure at 0x1eeaacc128>"
      ]
     },
     "metadata": {},
     "output_type": "display_data"
    }
   ],
   "source": [
    "# Построение графика\n",
    "\n",
    "# График без экстраполяции\n",
    "\n",
    "fig0 = plt.figure()\n",
    "plt.title('График без экстраполяции')\n",
    "axes0 = fig0.add_subplot(111)\n",
    "axes0.grid()\n",
    "axes0.plot(xArr, yArr)\n",
    "\n",
    "# График с экстраполяцией\n",
    "\n",
    "fig1 = plt.figure()\n",
    "plt.title('График c экстраполяцей')\n",
    "axes1 = fig1.add_subplot(111)\n",
    "axes1.grid()\n",
    "axes1.plot(new_xArr, new_yArr)\n",
    "\n",
    "plt.show()"
   ]
  }
 ],
 "metadata": {
  "kernelspec": {
   "display_name": "Python 3",
   "language": "python",
   "name": "python3"
  },
  "language_info": {
   "codemirror_mode": {
    "name": "ipython",
    "version": 3
   },
   "file_extension": ".py",
   "mimetype": "text/x-python",
   "name": "python",
   "nbconvert_exporter": "python",
   "pygments_lexer": "ipython3",
   "version": "3.5.1"
  }
 },
 "nbformat": 4,
 "nbformat_minor": 2
}
